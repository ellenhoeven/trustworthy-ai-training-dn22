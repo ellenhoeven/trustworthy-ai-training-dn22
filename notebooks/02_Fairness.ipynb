{
 "cells": [
  {
   "cell_type": "markdown",
   "metadata": {
    "pycharm": {
     "name": "#%% md\n"
    }
   },
   "source": [
    "# **Trustworthy AI - Fairness**\n",
    "## Case study - Predictive risk assessment tool\n",
    "\n",
    "Use this notebook to 1) **assess** the fairness of your ML predictions and 2) **address** possible biases using mitigation strategies\n",
    "\n",
    "**About the use case**\n",
    "\n",
    "Loans form an integral part of banking operations. However, not all the loans are promptly returned and hence it is important for a bank to closely monitor and understand loan applications so that they know which loans to reject and which to approve. \n",
    "\n",
    "This notebooks assess the fairness of machine learning models that use the German credit data set (https://archive.ics.uci.edu/ml/datasets/statlog+(german+credit+data)). It contains details of 1000 loan applicants with 20 attributes and the classification whether an applicant is considered a \"good\" or a \"bad\" credit risk (target).\n",
    "\n",
    "\n",
    "**Summary**\n",
    "\n",
    "This notebook demonstrates how the AIF360 toolkit by IBM can used to detect and mitigate bias throughout different stages of machine learning. We assess the dataset and model on bias with respect to the age of loan applicants and go into various metrics to assess fairness and algorithms to mitigate bias.\n",
    "\n",
    "_**With fairness in ML, please keep in mind that fairness is a multifaceted, context-dependent social construct that defies simple definition. We can try to approach machine learning fairness by using metrics to assess fairness and algorithms to mitigate bias. The metrics and algorithms we cover here do not cover the full scope of fairness in all situations.**_\n",
    "\n",
    "_**If you are considering to apply fairness metrics and algorithms, you should keep in mind that the toolkit should be used in a very limited setting only. For more guidance on when and if to use fairness metrics and algorithms please refer to http://aif360.mybluemix.net/resources#guidance**_\n",
    "\n",
    "\n"
   ]
  },
  {
   "cell_type": "markdown",
   "metadata": {},
   "source": [
    "### Notebook overview"
   ]
  },
  {
   "cell_type": "markdown",
   "metadata": {},
   "source": [
    "1. [Import statements](#Import_statements)\n",
    "\n",
    "  1a. [Data set and model scope](#Dataset_and_model)\n",
    "  \n",
    "  \n",
    "2. [Import data and specify protected attribute](#Import_data_and_specify_protected_attribute)\n"
   ]
  },
  {
   "cell_type": "markdown",
   "metadata": {},
   "source": [
    "# Fairness in ML"
   ]
  },
  {
   "attachments": {},
   "cell_type": "markdown",
   "metadata": {},
   "source": [
    "Spoiler alert: defining fairness is quite complicated, as fairness is a multifaceted, context-dependent social construct that defies simple definition.\n",
    "\n",
    "We can, however, try to approach machine learning fairness by using metrics to assess fairness and algorithms to mitigate bias. \n",
    "\n",
    "Here you can also find a guidance on which metric is suitable for which use case, with several considerations to keep in mind:\n",
    "- Do you need a metric for individual or group fairness or both?\n",
    "- For group fairness, do you want to focus on the data or the model?\n",
    "- For group fairness, do you follow the \"we're all equal\" (WAE) or the \"what you see is what you get\" (WYSIWYG) worldview? \n",
    "\n",
    "For mitigation, you should keep in mind the following guidelines and considerations:\n",
    "- At which part of the machine learning pipeline do you want to intervene?\n",
    "- If you can modify training data, you can use pre-processing\n",
    "- If you can change the learning algorithm, you can use in-processing\n",
    "- If your model is a black box and you can't modify the training data or the learning algorihtm, you can use post-processing\n",
    "\n",
    "If you are interested in learning more about the different fairness concepts and the guidelines for choosing specific metrics and algorithms, please refer to http://aif360.mybluemix.net/resources#guidance\n",
    "\n",
    "As you can see in the image below, fairness can be applied at various stages of the machine learning cycle: to the data, to the model, or post-hoc if you don't have access to the data or the model. At each stage there exist different metrics and mitigation strategies to choose from. \n",
    "\n",
    "![AI Fairness - Source: IBM Research AIF360](img/IBM-Research-AI-Fairness-360.png \"AIF360\")"
   ]
  },
  {
   "cell_type": "markdown",
   "metadata": {},
   "source": [
    "##### Focus of this tutorial \n",
    "\n",
    "For this tutorial, we will focus on:\n",
    "- the BinaryLabelDatasetMetric, which is a class for computing several metrics based on a single binary label dataset\n",
    "- the Reweighing preprocessing algorithm, which weighs the example in each group differently with respect to the favourable label (in our case age >=25) to ensure fairness before classification\n",
    "\n",
    "For this tutorial we will be using IBM Research's AIF360 package (https://github.com/Trusted-AI/AIF360) and (http://aif360.mybluemix.net/). \n",
    "\n",
    "Other libraries to assess fairness include VerifyML and Fairlearn"
   ]
  },
  {
   "cell_type": "markdown",
   "metadata": {
    "pycharm": {
     "name": "#%% md\n"
    }
   },
   "source": [
    "# Import statements"
   ]
  },
  {
   "cell_type": "code",
   "execution_count": 2,
   "metadata": {
    "pycharm": {
     "name": "#%%\n"
    }
   },
   "outputs": [],
   "source": [
    "import os\n",
    "import pickle\n",
    "\n",
    "import numpy as np\n",
    "np.random.seed(0)\n",
    "\n",
    "# Note: if you get a warning about a Tensorflow dependency when running this cell, you can ignore it as we won't need it for this tutorial\n",
    "# if you re-run the cell it should disappear\n",
    "from aif360.datasets import GermanDataset\n",
    "from aif360.metrics import BinaryLabelDatasetMetric\n",
    "from aif360.algorithms.preprocessing import Reweighing"
   ]
  },
  {
   "cell_type": "markdown",
   "metadata": {},
   "source": [
    "# Load dataset and specify protected attribute\n",
    "\n",
    "For this training, the German credit dataset (https://archive.ics.uci.edu/ml/datasets/statlog+(german+credit+data) from aif360.datasets has already been loaded and prepared for you in *data/processed* with the following preprocessing steps already taken:\n",
    "- The protected attribute has been set to **age**\n",
    "- **Age >= 25** is considered privileged\n",
    "- Protected attributes that have been dropped are personal status and sex\n",
    "\n",
    "We can now simply load the preprocessed data pickle file:"
   ]
  },
  {
   "cell_type": "code",
   "execution_count": 3,
   "metadata": {},
   "outputs": [
    {
     "data": {
      "text/plain": [
       "               instance weights features                \\\n",
       "                                                         \n",
       "                                   month credit_amount   \n",
       "instance names                                           \n",
       "0                           1.0      6.0        1169.0   \n",
       "1                           1.0     48.0        5951.0   \n",
       "2                           1.0     12.0        2096.0   \n",
       "3                           1.0     42.0        7882.0   \n",
       "4                           1.0     24.0        4870.0   \n",
       "...                         ...      ...           ...   \n",
       "995                         1.0     12.0        1736.0   \n",
       "996                         1.0     30.0        3857.0   \n",
       "997                         1.0     12.0         804.0   \n",
       "998                         1.0     45.0        1845.0   \n",
       "999                         1.0     45.0        4576.0   \n",
       "\n",
       "                                                                \\\n",
       "                                                                 \n",
       "               investment_as_income_percentage residence_since   \n",
       "instance names                                                   \n",
       "0                                          4.0             4.0   \n",
       "1                                          2.0             2.0   \n",
       "2                                          2.0             3.0   \n",
       "3                                          2.0             4.0   \n",
       "4                                          3.0             4.0   \n",
       "...                                        ...             ...   \n",
       "995                                        3.0             4.0   \n",
       "996                                        4.0             4.0   \n",
       "997                                        4.0             4.0   \n",
       "998                                        4.0             4.0   \n",
       "999                                        3.0             4.0   \n",
       "\n",
       "                                                                        \\\n",
       "               protected attribute                                       \n",
       "                               age number_of_credits people_liable_for   \n",
       "instance names                                                           \n",
       "0                              1.0               2.0               1.0   \n",
       "1                              0.0               1.0               1.0   \n",
       "2                              1.0               1.0               2.0   \n",
       "3                              1.0               1.0               2.0   \n",
       "4                              1.0               2.0               2.0   \n",
       "...                            ...               ...               ...   \n",
       "995                            1.0               1.0               1.0   \n",
       "996                            1.0               1.0               1.0   \n",
       "997                            1.0               1.0               1.0   \n",
       "998                            0.0               1.0               1.0   \n",
       "999                            1.0               1.0               1.0   \n",
       "\n",
       "                                      ...                                \\\n",
       "                                      ...                                 \n",
       "               status=A11 status=A12  ... housing=A153 skill_level=A171   \n",
       "instance names                        ...                                 \n",
       "0                     1.0        0.0  ...          0.0              0.0   \n",
       "1                     0.0        1.0  ...          0.0              0.0   \n",
       "2                     0.0        0.0  ...          0.0              0.0   \n",
       "3                     1.0        0.0  ...          1.0              0.0   \n",
       "4                     1.0        0.0  ...          1.0              0.0   \n",
       "...                   ...        ...  ...          ...              ...   \n",
       "995                   0.0        0.0  ...          0.0              0.0   \n",
       "996                   1.0        0.0  ...          0.0              0.0   \n",
       "997                   0.0        0.0  ...          0.0              0.0   \n",
       "998                   1.0        0.0  ...          1.0              0.0   \n",
       "999                   0.0        1.0  ...          0.0              0.0   \n",
       "\n",
       "                                                                   \\\n",
       "                                                                    \n",
       "               skill_level=A172 skill_level=A173 skill_level=A174   \n",
       "instance names                                                      \n",
       "0                           0.0              1.0              0.0   \n",
       "1                           0.0              1.0              0.0   \n",
       "2                           1.0              0.0              0.0   \n",
       "3                           0.0              1.0              0.0   \n",
       "4                           0.0              1.0              0.0   \n",
       "...                         ...              ...              ...   \n",
       "995                         1.0              0.0              0.0   \n",
       "996                         0.0              0.0              1.0   \n",
       "997                         0.0              1.0              0.0   \n",
       "998                         0.0              1.0              0.0   \n",
       "999                         0.0              1.0              0.0   \n",
       "\n",
       "                                                                  \\\n",
       "                                                                   \n",
       "               telephone=A191 telephone=A192 foreign_worker=A201   \n",
       "instance names                                                     \n",
       "0                         0.0            1.0                 1.0   \n",
       "1                         1.0            0.0                 1.0   \n",
       "2                         1.0            0.0                 1.0   \n",
       "3                         1.0            0.0                 1.0   \n",
       "4                         1.0            0.0                 1.0   \n",
       "...                       ...            ...                 ...   \n",
       "995                       1.0            0.0                 1.0   \n",
       "996                       0.0            1.0                 1.0   \n",
       "997                       1.0            0.0                 1.0   \n",
       "998                       0.0            1.0                 1.0   \n",
       "999                       1.0            0.0                 1.0   \n",
       "\n",
       "                                   labels  \n",
       "                                           \n",
       "               foreign_worker=A202         \n",
       "instance names                             \n",
       "0                              0.0    1.0  \n",
       "1                              0.0    2.0  \n",
       "2                              0.0    1.0  \n",
       "3                              0.0    1.0  \n",
       "4                              0.0    2.0  \n",
       "...                            ...    ...  \n",
       "995                            0.0    1.0  \n",
       "996                            0.0    1.0  \n",
       "997                            0.0    1.0  \n",
       "998                            0.0    2.0  \n",
       "999                            0.0    1.0  \n",
       "\n",
       "[1000 rows x 59 columns]"
      ]
     },
     "execution_count": 3,
     "metadata": {},
     "output_type": "execute_result"
    }
   ],
   "source": [
    "dataset_orig = pickle.load(open(os.path.join(os.getcwd(), os.pardir, \"data\", \"processed\", \"german_data_aif_360.pkl\"), \"rb\"))\n",
    "dataset_orig"
   ]
  },
  {
   "cell_type": "markdown",
   "metadata": {},
   "source": [
    "We can access the data as a dataframe as well:"
   ]
  },
  {
   "cell_type": "code",
   "execution_count": 4,
   "metadata": {},
   "outputs": [
    {
     "data": {
      "text/html": [
       "<div>\n",
       "<style scoped>\n",
       "    .dataframe tbody tr th:only-of-type {\n",
       "        vertical-align: middle;\n",
       "    }\n",
       "\n",
       "    .dataframe tbody tr th {\n",
       "        vertical-align: top;\n",
       "    }\n",
       "\n",
       "    .dataframe thead th {\n",
       "        text-align: right;\n",
       "    }\n",
       "</style>\n",
       "<table border=\"1\" class=\"dataframe\">\n",
       "  <thead>\n",
       "    <tr style=\"text-align: right;\">\n",
       "      <th></th>\n",
       "      <th>month</th>\n",
       "      <th>credit_amount</th>\n",
       "      <th>investment_as_income_percentage</th>\n",
       "      <th>residence_since</th>\n",
       "      <th>age</th>\n",
       "      <th>number_of_credits</th>\n",
       "      <th>people_liable_for</th>\n",
       "      <th>status=A11</th>\n",
       "      <th>status=A12</th>\n",
       "      <th>status=A13</th>\n",
       "      <th>...</th>\n",
       "      <th>housing=A153</th>\n",
       "      <th>skill_level=A171</th>\n",
       "      <th>skill_level=A172</th>\n",
       "      <th>skill_level=A173</th>\n",
       "      <th>skill_level=A174</th>\n",
       "      <th>telephone=A191</th>\n",
       "      <th>telephone=A192</th>\n",
       "      <th>foreign_worker=A201</th>\n",
       "      <th>foreign_worker=A202</th>\n",
       "      <th>credit</th>\n",
       "    </tr>\n",
       "  </thead>\n",
       "  <tbody>\n",
       "    <tr>\n",
       "      <th>0</th>\n",
       "      <td>6.0</td>\n",
       "      <td>1169.0</td>\n",
       "      <td>4.0</td>\n",
       "      <td>4.0</td>\n",
       "      <td>1.0</td>\n",
       "      <td>2.0</td>\n",
       "      <td>1.0</td>\n",
       "      <td>1.0</td>\n",
       "      <td>0.0</td>\n",
       "      <td>0.0</td>\n",
       "      <td>...</td>\n",
       "      <td>0.0</td>\n",
       "      <td>0.0</td>\n",
       "      <td>0.0</td>\n",
       "      <td>1.0</td>\n",
       "      <td>0.0</td>\n",
       "      <td>0.0</td>\n",
       "      <td>1.0</td>\n",
       "      <td>1.0</td>\n",
       "      <td>0.0</td>\n",
       "      <td>1.0</td>\n",
       "    </tr>\n",
       "    <tr>\n",
       "      <th>1</th>\n",
       "      <td>48.0</td>\n",
       "      <td>5951.0</td>\n",
       "      <td>2.0</td>\n",
       "      <td>2.0</td>\n",
       "      <td>0.0</td>\n",
       "      <td>1.0</td>\n",
       "      <td>1.0</td>\n",
       "      <td>0.0</td>\n",
       "      <td>1.0</td>\n",
       "      <td>0.0</td>\n",
       "      <td>...</td>\n",
       "      <td>0.0</td>\n",
       "      <td>0.0</td>\n",
       "      <td>0.0</td>\n",
       "      <td>1.0</td>\n",
       "      <td>0.0</td>\n",
       "      <td>1.0</td>\n",
       "      <td>0.0</td>\n",
       "      <td>1.0</td>\n",
       "      <td>0.0</td>\n",
       "      <td>2.0</td>\n",
       "    </tr>\n",
       "    <tr>\n",
       "      <th>2</th>\n",
       "      <td>12.0</td>\n",
       "      <td>2096.0</td>\n",
       "      <td>2.0</td>\n",
       "      <td>3.0</td>\n",
       "      <td>1.0</td>\n",
       "      <td>1.0</td>\n",
       "      <td>2.0</td>\n",
       "      <td>0.0</td>\n",
       "      <td>0.0</td>\n",
       "      <td>0.0</td>\n",
       "      <td>...</td>\n",
       "      <td>0.0</td>\n",
       "      <td>0.0</td>\n",
       "      <td>1.0</td>\n",
       "      <td>0.0</td>\n",
       "      <td>0.0</td>\n",
       "      <td>1.0</td>\n",
       "      <td>0.0</td>\n",
       "      <td>1.0</td>\n",
       "      <td>0.0</td>\n",
       "      <td>1.0</td>\n",
       "    </tr>\n",
       "    <tr>\n",
       "      <th>3</th>\n",
       "      <td>42.0</td>\n",
       "      <td>7882.0</td>\n",
       "      <td>2.0</td>\n",
       "      <td>4.0</td>\n",
       "      <td>1.0</td>\n",
       "      <td>1.0</td>\n",
       "      <td>2.0</td>\n",
       "      <td>1.0</td>\n",
       "      <td>0.0</td>\n",
       "      <td>0.0</td>\n",
       "      <td>...</td>\n",
       "      <td>1.0</td>\n",
       "      <td>0.0</td>\n",
       "      <td>0.0</td>\n",
       "      <td>1.0</td>\n",
       "      <td>0.0</td>\n",
       "      <td>1.0</td>\n",
       "      <td>0.0</td>\n",
       "      <td>1.0</td>\n",
       "      <td>0.0</td>\n",
       "      <td>1.0</td>\n",
       "    </tr>\n",
       "    <tr>\n",
       "      <th>4</th>\n",
       "      <td>24.0</td>\n",
       "      <td>4870.0</td>\n",
       "      <td>3.0</td>\n",
       "      <td>4.0</td>\n",
       "      <td>1.0</td>\n",
       "      <td>2.0</td>\n",
       "      <td>2.0</td>\n",
       "      <td>1.0</td>\n",
       "      <td>0.0</td>\n",
       "      <td>0.0</td>\n",
       "      <td>...</td>\n",
       "      <td>1.0</td>\n",
       "      <td>0.0</td>\n",
       "      <td>0.0</td>\n",
       "      <td>1.0</td>\n",
       "      <td>0.0</td>\n",
       "      <td>1.0</td>\n",
       "      <td>0.0</td>\n",
       "      <td>1.0</td>\n",
       "      <td>0.0</td>\n",
       "      <td>2.0</td>\n",
       "    </tr>\n",
       "  </tbody>\n",
       "</table>\n",
       "<p>5 rows × 58 columns</p>\n",
       "</div>"
      ],
      "text/plain": [
       "   month  credit_amount  investment_as_income_percentage  residence_since  \\\n",
       "0    6.0         1169.0                              4.0              4.0   \n",
       "1   48.0         5951.0                              2.0              2.0   \n",
       "2   12.0         2096.0                              2.0              3.0   \n",
       "3   42.0         7882.0                              2.0              4.0   \n",
       "4   24.0         4870.0                              3.0              4.0   \n",
       "\n",
       "   age  number_of_credits  people_liable_for  status=A11  status=A12  \\\n",
       "0  1.0                2.0                1.0         1.0         0.0   \n",
       "1  0.0                1.0                1.0         0.0         1.0   \n",
       "2  1.0                1.0                2.0         0.0         0.0   \n",
       "3  1.0                1.0                2.0         1.0         0.0   \n",
       "4  1.0                2.0                2.0         1.0         0.0   \n",
       "\n",
       "   status=A13  ...  housing=A153  skill_level=A171  skill_level=A172  \\\n",
       "0         0.0  ...           0.0               0.0               0.0   \n",
       "1         0.0  ...           0.0               0.0               0.0   \n",
       "2         0.0  ...           0.0               0.0               1.0   \n",
       "3         0.0  ...           1.0               0.0               0.0   \n",
       "4         0.0  ...           1.0               0.0               0.0   \n",
       "\n",
       "   skill_level=A173  skill_level=A174  telephone=A191  telephone=A192  \\\n",
       "0               1.0               0.0             0.0             1.0   \n",
       "1               1.0               0.0             1.0             0.0   \n",
       "2               0.0               0.0             1.0             0.0   \n",
       "3               1.0               0.0             1.0             0.0   \n",
       "4               1.0               0.0             1.0             0.0   \n",
       "\n",
       "   foreign_worker=A201  foreign_worker=A202  credit  \n",
       "0                  1.0                  0.0     1.0  \n",
       "1                  1.0                  0.0     2.0  \n",
       "2                  1.0                  0.0     1.0  \n",
       "3                  1.0                  0.0     1.0  \n",
       "4                  1.0                  0.0     2.0  \n",
       "\n",
       "[5 rows x 58 columns]"
      ]
     },
     "execution_count": 4,
     "metadata": {},
     "output_type": "execute_result"
    }
   ],
   "source": [
    "df = dataset_orig.convert_to_dataframe()[0]\n",
    "df.head()"
   ]
  },
  {
   "cell_type": "markdown",
   "metadata": {},
   "source": [
    "For this tutorial, the original target labels of the dataset have been kept, where (1 = Good, 2 = Bad)"
   ]
  },
  {
   "cell_type": "markdown",
   "metadata": {},
   "source": [
    "We then split the data into a train, test and validation set. \n",
    "\n",
    "In this tutorial we will only cover the train dataset, but during the development of a machine learning model we would also use the validation and test set. \n",
    "\n",
    "We set two variables for the privileged (1, age>=25) values and unprivileged (0, age<25) values which will be the key inputs for detecting and mitigating bias. "
   ]
  },
  {
   "cell_type": "code",
   "execution_count": 5,
   "metadata": {},
   "outputs": [],
   "source": [
    "dataset_orig_train, dataset_orig_val, dataset_orig_test = dataset_orig.split([0.7, 0.9], shuffle=True)\n",
    "\n",
    "privileged_groups = [{'age': 1}]\n",
    "unprivileged_groups = [{'age': 0}]"
   ]
  },
  {
   "cell_type": "code",
   "execution_count": 6,
   "metadata": {},
   "outputs": [
    {
     "name": "stdout",
     "output_type": "stream",
     "text": [
      "(700, 58)\n",
      "(200, 58)\n",
      "(100, 58)\n"
     ]
    }
   ],
   "source": [
    "print(dataset_orig_train.convert_to_dataframe()[0].shape)\n",
    "print(dataset_orig_val.convert_to_dataframe()[0].shape)\n",
    "print(dataset_orig_test.convert_to_dataframe()[0].shape)"
   ]
  },
  {
   "cell_type": "markdown",
   "metadata": {},
   "source": [
    "# Compute fairness metric on original dataset\n",
    "\n",
    "The BinaryLabelDatasetMetric is a class for computing several metrics based on a single binary label dataset.\n",
    "\n",
    "We focus on the following metrics from BinaryLabelDatasetMetric:\n",
    "- **Difference in mean outcomes**, which is the alias of **statistical parity difference** and shows the difference of the rate of favourable outcomes (here 𝑌=1) received by the unprivileged group to the privileged group:\n",
    "\n",
    "$Pr(Y=1 | D=\\text{unpriviliged})-Pr(Y=1 | D=\\text{priviliged})$\n",
    "\n",
    "- **Disparate impact**, which is the ratio between the rate of favourable outcomes (here $Y=1$) received by the unprivileged group to the privileged group. \n",
    "\n",
    "$\\frac{Pr(Y=1 | D=\\text{unpriviliged})}{Pr(Y=1 | D=\\text{priviliged})}$\n",
    "\n",
    "In our case, this means we check the distribution of our target variable credit risk with respect to the entry belonging to the privileged group (age>=25), or unprivileged group (age>25) "
   ]
  },
  {
   "cell_type": "code",
   "execution_count": 14,
   "metadata": {},
   "outputs": [
    {
     "name": "stdout",
     "output_type": "stream",
     "text": [
      "Original training dataset: \n",
      "\n",
      "Difference in mean outcomes (statistical parity difference) between unprivileged and privileged groups for protected attribute age = -0.169905 \n",
      "\n",
      "Disparate impact between unprivileged and privileged groups for protected attribute age = 0.766430\n"
     ]
    }
   ],
   "source": [
    "protected_attribute = \"age\"\n",
    "metric_orig_train = BinaryLabelDatasetMetric(dataset_orig_train, \n",
    "                                             unprivileged_groups=unprivileged_groups,\n",
    "                                             privileged_groups=privileged_groups)\n",
    "print(\"Original training dataset: \\n\")\n",
    "# values between [-1;1], closer to 0 is more 'fair'\n",
    "print(\"Difference in mean outcomes (statistical parity difference) between unprivileged and privileged groups for protected attribute %s = %f \\n\" % (protected_attribute, metric_orig_train.mean_difference()))\n",
    "# values between (-inf,inf), closer to 1 is more 'fair'\n",
    "print(\"Disparate impact between unprivileged and privileged groups for protected attribute %s = %f\" %(protected_attribute, metric_orig_train.disparate_impact()))"
   ]
  },
  {
   "cell_type": "markdown",
   "metadata": {},
   "source": [
    "# Mitigating bias by transforming the original dataset\n",
    "\n",
    "We now apply the reweighing algorithm to the dataset, which is a pre-processing fairness algorithm applied to the data.\n",
    "\n",
    "Reweighing transforms the training data according to computed weights to guarantee that there remains no conditional dependence between the outcome and the protected attribute.\n",
    "\n",
    "Reweighing aims at correcting past wrongs with respect to the fairness metrics by weighting non-discriminatory cases with respect to the protected attribute more heavily and weighting discriminatory cases less.\n",
    "\n",
    "In our case, this means that Reweighing will transform the dataset to ensure that the statistical parity difference on the training data equals 0 and the disparate impact equals 1.\n"
   ]
  },
  {
   "cell_type": "code",
   "execution_count": 15,
   "metadata": {},
   "outputs": [],
   "source": [
    "RW = Reweighing(unprivileged_groups=unprivileged_groups,\n",
    "                privileged_groups=privileged_groups)\n",
    "\n",
    "dataset_transf_train = RW.fit_transform(dataset_orig_train)"
   ]
  },
  {
   "cell_type": "markdown",
   "metadata": {},
   "source": [
    "The computed weights are as follows: "
   ]
  },
  {
   "cell_type": "code",
   "execution_count": 16,
   "metadata": {},
   "outputs": [
    {
     "data": {
      "text/plain": [
       "(0.9622950819672131, 1.100625, 1.2555555555555555, 0.678)"
      ]
     },
     "execution_count": 16,
     "metadata": {},
     "output_type": "execute_result"
    }
   ],
   "source": [
    "# weight_privileged_favourable, weight_privileged_unfavourable, weight_unprivileged_favourable, weight_unprivileged_unfavourable\n",
    "(RW.w_p_fav, RW.w_p_unfav, RW.w_up_fav, RW.w_up_unfav)"
   ]
  },
  {
   "cell_type": "markdown",
   "metadata": {},
   "source": [
    "# Compute fairness metric on transformed dataset\n",
    "\n",
    "If we now again calculate the fairness metrics on the transformed dataset, we can see that the training data has been altered such that these metrics reach their maximum fairness score"
   ]
  },
  {
   "cell_type": "code",
   "execution_count": 19,
   "metadata": {},
   "outputs": [
    {
     "name": "stdout",
     "output_type": "stream",
     "text": [
      "Transformed training dataset: \n",
      "\n",
      "Difference in mean outcomes between unprivileged and privileged groups for protected attribute age = 0.000000 \n",
      "\n",
      "Disparate impact between unprivileged and privileged groups for protected attribute age = 1.000000\n"
     ]
    }
   ],
   "source": [
    "protected_attribute = \"age\"\n",
    "\n",
    "metric_transf_train = BinaryLabelDatasetMetric(dataset_transf_train, \n",
    "                                               unprivileged_groups=unprivileged_groups,\n",
    "                                               privileged_groups=privileged_groups)\n",
    "print(\"Transformed training dataset: \\n\")\n",
    "# values between [-1;1], closer to 0 is more 'fair'\n",
    "print(\"Difference in mean outcomes between unprivileged and privileged groups for protected attribute %s = %f \\n\" % (protected_attribute, metric_transf_train.mean_difference())) \n",
    "# values between (-inf,inf), closer to 1 is more 'fair'\n",
    "print(\"Disparate impact between unprivileged and privileged groups for protected attribute %s = %f\" %(protected_attribute, metric_transf_train.disparate_impact()))"
   ]
  },
  {
   "cell_type": "markdown",
   "metadata": {},
   "source": [
    "###### For questions about this notebook please reach out to ellen.hoeven@ibm.com"
   ]
  }
 ],
 "metadata": {
  "kernelspec": {
   "display_name": "Python 3 (ipykernel)",
   "language": "python",
   "name": "python3"
  },
  "language_info": {
   "codemirror_mode": {
    "name": "ipython",
    "version": 3
   },
   "file_extension": ".py",
   "mimetype": "text/x-python",
   "name": "python",
   "nbconvert_exporter": "python",
   "pygments_lexer": "ipython3",
   "version": "3.9.13"
  }
 },
 "nbformat": 4,
 "nbformat_minor": 1
}
